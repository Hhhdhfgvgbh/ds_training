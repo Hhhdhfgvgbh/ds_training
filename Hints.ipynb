{
 "cells": [
  {
   "cell_type": "code",
   "execution_count": null,
   "id": "5642e55f",
   "metadata": {},
   "outputs": [],
   "source": [
    "Яндекс и сбер молиться категорический отказываются.\n",
    "чат-гпт (опен-аи)  и ллама (фейсбук) молятся нормально\n",
    "гугл-(Gemini  и Gemma)- изворачиваются и отказываются молиться напрямую.\n",
    "Клауд (антропик) - категорический отказывается\n",
    "Qwen2 (алибаба) - предлагает текст молитвы\n",
    "Vikhrmodels (вихрь, русская) - предлагает текст (мутная)"
   ]
  },
  {
   "cell_type": "markdown",
   "id": "6942b6e5",
   "metadata": {},
   "source": [
    "# Гит памятка"
   ]
  },
  {
   "cell_type": "markdown",
   "id": "8c4c6f31",
   "metadata": {},
   "source": [
    "## Инициализация репозитория\n",
    "\n",
    "`git init` (от англ. *initialize*, «инициализировать») — инициализируй репозиторий.\n",
    "\n",
    "## Синхронизация локального и удалённого репозиториев\n",
    "\n",
    "- `git remote add origin https://github.com/YandexPracticum/first-project.git` (от англ. *remote*, «удалённый» + *add*, «добавить») — привяжи локальный репозиторий к удалённому с URL `https://github.com/YandexPracticum/first-project.git`;\n",
    "- `git remote -v` (от англ. *verbose*, «подробный») — проверь, что репозитории действительно связались;\n",
    "- `git push -u origin main` (от англ. *push*, «толкать») — в первый раз загрузи все коммиты из локального репозитория в удалённый с названием `origin`.  \n",
    "  💡 Ваша ветка может называться `master`, а не `main`. Подправьте команду, если это необходимо.\n",
    "- `git push` (от англ. *push*, «толкать») — загрузи коммиты в удалённый репозиторий после того, как он был привязан с помощью флага `-u`.\n",
    "\n",
    "## Подготовка файла к коммиту\n",
    "\n",
    "- `git add todo.txt` (от англ. *add*, «добавить») — подготовь файл `todo.txt` к коммиту;\n",
    "- `git add --all` (от англ. *add*, «добавить» + *all*, «всё») — подготовь к коммиту сразу все файлы, в которых были изменения, и все новые файлы;\n",
    "- `git add .` — подготовь к коммиту текущую папку и все файлы в ней.\n",
    "\n",
    "## Создание и публикация коммита\n",
    "\n",
    "- `git commit -m \"Комментарий к коммиту.\"` (от англ. *commit*, «совершать», «фиксировать» + *message*, «сообщение») — сделай коммит и оставь комментарий, чтобы было проще понять, какие изменения сделаны;\n",
    "- `git push` (от англ. *push*, «толкать») — добавь изменения в удалённый репозиторий.\n",
    "\n",
    "## Просмотр информации о коммитах\n",
    "\n",
    "- `git log` (от англ. *log*, «журнал [записей]») — выведи подробную историю коммитов;\n",
    "- `git log --oneline` (от англ. *log*, «журнал [записей]» + *oneline*, «одной строкой») — покажи краткую информацию о коммитах: сокращённый хеш и сообщение.\n",
    "\n",
    "## Просмотр состояния файлов\n",
    "\n",
    "- `git status` (от англ. *status*, «статус», «состояние») — покажи текущее состояние репозитория.\n",
    "\n",
    "## Добавление изменений в последний коммит\n",
    "\n",
    "- `git commit --amend --no-edit` (от англ. *amend*, «исправить») — добавь изменения к последнему коммиту и оставь сообщение прежним;\n",
    "- `git commit --amend -m \"Новое сообщение\"` — измени сообщение к последнему коммиту на \"Новое сообщение\".  \n",
    "  💡 Выйти из редактора Vim: нажать `Esc`, ввести `:qa!`, нажать `Enter`.\n",
    "\n",
    "## «Откат» файлов и коммитов\n",
    "\n",
    "- `git restore --staged hello.txt` (от англ. *restore*, «восстановить») — переведи файл `hello.txt` из состояния staged обратно в untracked или modified;\n",
    "- `git restore hello.txt` — верни файл `hello.txt` к последней версии, которая была сохранена через `git commit` или `git add`;\n",
    "- `git reset --hard b576d89` (от англ. *reset*, «сброс», «обнуление» + *hard*, «суровый») — удали все незакоммиченные изменения из staging и «рабочей зоны» вплоть до указанного коммита.\n",
    "\n",
    "## Просмотр изменений\n",
    "\n",
    "- `git diff` (от англ. *difference*, «отличие», «разница») — покажи изменения в «рабочей зоне», то есть в modified-файлах;\n",
    "- `git diff a9928ab 11bada1` — выведи разницу между двумя коммитами;\n",
    "- `git diff --staged` — покажи изменения, которые добавлены в staged-файлах."
   ]
  },
  {
   "cell_type": "markdown",
   "id": "6da5a657",
   "metadata": {},
   "source": [
    "# Консоль"
   ]
  },
  {
   "cell_type": "markdown",
   "id": "6d57a3f6",
   "metadata": {},
   "source": [
    "## Навигация \n",
    "\n",
    "*   `pwd` (от англ. print working directory, «показать рабочую папку») — покажи, в какой я папке;\n",
    "*   `ls` (от англ. list directory contents, «отобразить содержимое директории») — покажи файлы и папки в текущей папке;\n",
    "*   `ls -a` — покажи также скрытые файлы и папки, названия которых начинаются с символа .;\n",
    "*   `cd first-project` (от англ. change directory, «сменить директорию») — перейди в папку first-project;\n",
    "*   `cd first-project/html` — перейди в папку html, которая находится в папке first-project;\n",
    "*   `cd ..` — перейди на уровень выше, в родительскую папку;\n",
    "*   `cd ~` — перейди в домашнюю директорию (/Users/Username);\n",
    "*   `cd /` — перейди в корневую директорию.\n",
    "*  Для перехода на другой диск в командной строке Windows, **просто укажите имя диска без команды cd** (`D:`)\n",
    "\n",
    "\n",
    "## Создание\n",
    "\n",
    "*   `touch index.html` (англ. touch, «коснуться») — создай файл index.html в текущей папке;\n",
    "*   `touch index.html style.css script.js` — если нужно создать сразу несколько файлов, можно напечатать их имена в одну строку через пробел;\n",
    "*   `mkdir second-project` (от англ. make directory, «создать директорию») — создай папку с именем second-project в текущей папке.\n",
    "\n",
    "## Копирование и перемещение\n",
    "\n",
    "*   `cp file.txt ~/my-dir` (от англ. copy, «копировать») — скопируй файл в другое место;\n",
    "*   `mv file.txt ~/my-dir` (от англ. move, «переместить») — перемести файл или папку в другое место.\n",
    "\n",
    "## Чтение\n",
    "\n",
    "*   `cat file.txt` (от англ. concatenate and print, «объединить и распечатать») — распечатай содержимое текстового файла file.txt.\n",
    "\n",
    "## Удаление\n",
    "\n",
    "*   `rm about.html` (от англ. remove, «удалить») — удали файл about.html;\n",
    "*   `rmdir images` (от англ. remove directory, «удалить директорию») — удали папку images;\n",
    "*   `rm -r second-project` (от англ. remove, «удалить» + recursive, «рекурсивный») — удали папку second-project и всё, что она содержит.\n",
    "\n",
    "## Полезные возможности\n",
    "==========================\n",
    "\n",
    "*   Команды необязательно печатать и выполнять по очереди. Можно указать их списком — разделить двумя амперсандами (&&).\n",
    "*   У консоли есть собственная память — буфер с несколькими последними командами. По ним можно перемещаться с помощью клавиш со стрелками вверх (↑) и вниз (↓).\n",
    "*   Чтобы не вводить название файла или папки полностью, можно набрать первые символы имени и дважды нажать Tab. Если файл или папка есть в текущей директории, командная строка допишет путь сама.\n",
    "* КОГДА КОНСОЛЬ ПРЕВРАЩАЕТСЯ В ТЕКСТОВЫЙ РЕДАКТОР! - Если вы используете vim в качестве текстового редактора, вы можете сделать это, нажав Esc, затем ввод :wq и нажимая Enter. Если вы хотите прервать процесс слияния, вы можете использовать команду git merge --abort. Если вы не знакомы с vim и случайно попали в него, введите :q! и нажмите Enter, чтобы выйти без сохранения.\n",
    "\n",
    "\n"
   ]
  },
  {
   "cell_type": "code",
   "execution_count": null,
   "id": "d5f9cb6c",
   "metadata": {},
   "outputs": [],
   "source": []
  },
  {
   "cell_type": "markdown",
   "id": "5fa61e45",
   "metadata": {},
   "source": [
    "# Консоль"
   ]
  },
  {
   "cell_type": "markdown",
   "id": "6b8fd838",
   "metadata": {},
   "source": [
    "# Простая работа с данными"
   ]
  },
  {
   "cell_type": "code",
   "execution_count": null,
   "id": "8ff8f5cd",
   "metadata": {},
   "outputs": [],
   "source": []
  },
  {
   "cell_type": "code",
   "execution_count": null,
   "id": "9bc91b92",
   "metadata": {},
   "outputs": [],
   "source": []
  },
  {
   "cell_type": "code",
   "execution_count": 3,
   "id": "85707ba5",
   "metadata": {},
   "outputs": [],
   "source": [
    "import pandas as pd\n",
    "import numpy as np\n",
    "\n",
    "# Сброс ограничений на количество выводимых рядов\n",
    "#pd.set_option('display.max_rows', None)\n",
    "\n",
    "# Сброс ограничений на число столбцов\n",
    "pd.set_option('display.max_columns', None)\n",
    "\n",
    "# Сброс ограничений на количество символов в записи\n",
    "#pd.set_option('display.max_colwidth', None)"
   ]
  },
  {
   "cell_type": "code",
   "execution_count": 4,
   "id": "84e9c44d",
   "metadata": {},
   "outputs": [
    {
     "data": {
      "text/html": [
       "\n",
       "                <script type=\"application/javascript\" id=\"jupyter_black\">\n",
       "                (function() {\n",
       "                    if (window.IPython === undefined) {\n",
       "                        return\n",
       "                    }\n",
       "                    var msg = \"WARNING: it looks like you might have loaded \" +\n",
       "                        \"jupyter_black in a non-lab notebook with \" +\n",
       "                        \"`is_lab=True`. Please double check, and if \" +\n",
       "                        \"loading with `%load_ext` please review the README!\"\n",
       "                    console.log(msg)\n",
       "                    alert(msg)\n",
       "                })()\n",
       "                </script>\n",
       "                "
      ],
      "text/plain": [
       "<IPython.core.display.HTML object>"
      ]
     },
     "metadata": {},
     "output_type": "display_data"
    }
   ],
   "source": [
    "import jupyter_black\n",
    "\n",
    "jupyter_black.load()\n",
    "# Форматер (красивости)"
   ]
  },
  {
   "cell_type": "code",
   "execution_count": 5,
   "id": "c58f7bd8",
   "metadata": {},
   "outputs": [],
   "source": [
    "df = pd.DataFrame(\n",
    "    data={\n",
    "        \"date_per\": pd.date_range(start=\"2020-11-03\", end=\"2021-10-01\", periods=1200),\n",
    "        \"int_rnd\": np.random.randint(0, 1000, size=1200),\n",
    "        \"fl_rnd_ones\": np.random.random(1200),\n",
    "        \"fl_rnd_norm\": np.random.normal(10, 6, 1200),\n",
    "    },\n",
    "    index=range(100, 1300),\n",
    ")"
   ]
  },
  {
   "cell_type": "code",
   "execution_count": 6,
   "id": "646132cb",
   "metadata": {},
   "outputs": [
    {
     "name": "stdout",
     "output_type": "stream",
     "text": [
      "<class 'pandas.core.frame.DataFrame'>\n",
      "RangeIndex: 1200 entries, 100 to 1299\n",
      "Data columns (total 4 columns):\n",
      " #   Column       Non-Null Count  Dtype         \n",
      "---  ------       --------------  -----         \n",
      " 0   date_per     1200 non-null   datetime64[ns]\n",
      " 1   int_rnd      1200 non-null   int32         \n",
      " 2   fl_rnd_ones  1200 non-null   float64       \n",
      " 3   fl_rnd_norm  1200 non-null   float64       \n",
      "dtypes: datetime64[ns](1), float64(2), int32(1)\n",
      "memory usage: 32.9 KB\n"
     ]
    }
   ],
   "source": [
    "df.info()"
   ]
  },
  {
   "cell_type": "code",
   "execution_count": 7,
   "id": "a5c5887b",
   "metadata": {},
   "outputs": [
    {
     "data": {
      "text/html": [
       "<div>\n",
       "<style scoped>\n",
       "    .dataframe tbody tr th:only-of-type {\n",
       "        vertical-align: middle;\n",
       "    }\n",
       "\n",
       "    .dataframe tbody tr th {\n",
       "        vertical-align: top;\n",
       "    }\n",
       "\n",
       "    .dataframe thead th {\n",
       "        text-align: right;\n",
       "    }\n",
       "</style>\n",
       "<table border=\"1\" class=\"dataframe\">\n",
       "  <thead>\n",
       "    <tr style=\"text-align: right;\">\n",
       "      <th></th>\n",
       "      <th>date_per</th>\n",
       "      <th>int_rnd</th>\n",
       "      <th>fl_rnd_ones</th>\n",
       "      <th>fl_rnd_norm</th>\n",
       "    </tr>\n",
       "  </thead>\n",
       "  <tbody>\n",
       "    <tr>\n",
       "      <th>1247</th>\n",
       "      <td>2021-09-16 14:25:55.296080068</td>\n",
       "      <td>445</td>\n",
       "      <td>0.220024</td>\n",
       "      <td>12.770867</td>\n",
       "    </tr>\n",
       "    <tr>\n",
       "      <th>1089</th>\n",
       "      <td>2021-08-03 20:26:13.311092576</td>\n",
       "      <td>390</td>\n",
       "      <td>0.864630</td>\n",
       "      <td>19.717439</td>\n",
       "    </tr>\n",
       "    <tr>\n",
       "      <th>867</th>\n",
       "      <td>2021-06-03 09:07:39.382819016</td>\n",
       "      <td>708</td>\n",
       "      <td>0.479819</td>\n",
       "      <td>17.282369</td>\n",
       "    </tr>\n",
       "  </tbody>\n",
       "</table>\n",
       "</div>"
      ],
      "text/plain": [
       "                          date_per  int_rnd  fl_rnd_ones  fl_rnd_norm\n",
       "1247 2021-09-16 14:25:55.296080068      445     0.220024    12.770867\n",
       "1089 2021-08-03 20:26:13.311092576      390     0.864630    19.717439\n",
       "867  2021-06-03 09:07:39.382819016      708     0.479819    17.282369"
      ]
     },
     "execution_count": 7,
     "metadata": {},
     "output_type": "execute_result"
    }
   ],
   "source": [
    "df.sample(3)\n",
    "#df.sample(frac=1)   frac - какую долю от общего количества показать, если 1 то будет полный но перемешанный"
   ]
  },
  {
   "cell_type": "code",
   "execution_count": null,
   "id": "8681dc3b",
   "metadata": {},
   "outputs": [],
   "source": [
    "df_all['num_m'] = df_all['d_dateinput'].dt.month \n",
    "df_all['num_w'] = df_all['d_dateinput'].dt.strftime('w%V')"
   ]
  },
  {
   "cell_type": "code",
   "execution_count": null,
   "id": "622b119c",
   "metadata": {},
   "outputs": [],
   "source": []
  },
  {
   "cell_type": "code",
   "execution_count": null,
   "id": "64f843c4",
   "metadata": {},
   "outputs": [],
   "source": []
  },
  {
   "cell_type": "code",
   "execution_count": null,
   "id": "56b2adf8",
   "metadata": {},
   "outputs": [],
   "source": []
  },
  {
   "cell_type": "code",
   "execution_count": null,
   "id": "d1dd99c8",
   "metadata": {},
   "outputs": [],
   "source": [
    "# графики на временных рядах\n",
    "import matplotlib.pyplot as plt\n",
    "\n",
    "df_time = df.copy()\n",
    "df_time.index = df_time[\"date_per\"]\n",
    "df_time = df_time.sort_index()\n",
    "\n",
    "df_time[\"fl_rnd_ones\"].rolling(\"48H\").mean().plot(figsize=(16, 6), label=\"fl_rnd_ones\")\n",
    "plt.grid()\n",
    "plt.legend()\n",
    "plt.xlim([\"2021-03-30 02\", \"2021-05-30 15\"])\n",
    "plt.ylim([0.1, 0.99])\n",
    "plt.title(\"time_series\")\n",
    "plt.show()"
   ]
  },
  {
   "cell_type": "code",
   "execution_count": null,
   "id": "9378950e",
   "metadata": {},
   "outputs": [],
   "source": [
    "import matplotlib.pyplot as plt\n",
    "plt.figure(figsize=(12,12)) # размер\n",
    "df_time['fl_rnd_ones'].rolling('48H').mean().plot(figsize = (16,6), label = f'{i}')\n",
    "plt.axvline(x='2024-07-01', ymin=0.0, ymax=0.85, color='g', label = 'изменил скоринг') # вертикальная линия\n",
    "plt.grid()\n",
    "plt.legend()\n",
    "plt.xlim(['2023-02-10 02', '2023-12-30 15'])\n",
    "plt.title(f'{i}')\n",
    "plt.show()"
   ]
  },
  {
   "cell_type": "code",
   "execution_count": null,
   "id": "00383532",
   "metadata": {},
   "outputs": [],
   "source": [
    "df_valid_c.groupby(\"num_group\", as_index=False).agg(count=(\"dog_limit\", \"count\"),\n",
    "                                                       mean_gog_lim=(\"dog_limit\", 'mean'),\n",
    "                                                       all_sum_dog_lim=(\"dog_limit\", \"sum\"),\n",
    "                                                       mean_npl_30_60=(\"npl_30_60\", 'mean'))"
   ]
  },
  {
   "cell_type": "code",
   "execution_count": null,
   "id": "7d7987ee",
   "metadata": {},
   "outputs": [],
   "source": []
  },
  {
   "cell_type": "code",
   "execution_count": null,
   "id": "ef0429f2",
   "metadata": {},
   "outputs": [],
   "source": [
    "len(list(range(100, 1300)))"
   ]
  },
  {
   "cell_type": "code",
   "execution_count": null,
   "id": "ea860a1f",
   "metadata": {},
   "outputs": [],
   "source": [
    "pd.date_range(start=\"2020-11-03\", end=\"2021-10-01\", periods=1200)"
   ]
  },
  {
   "cell_type": "code",
   "execution_count": null,
   "id": "493933ab",
   "metadata": {},
   "outputs": [],
   "source": []
  }
 ],
 "metadata": {
  "kernelspec": {
   "display_name": "Python 3",
   "language": "python",
   "name": "python3"
  },
  "language_info": {
   "codemirror_mode": {
    "name": "ipython",
    "version": 3
   },
   "file_extension": ".py",
   "mimetype": "text/x-python",
   "name": "python",
   "nbconvert_exporter": "python",
   "pygments_lexer": "ipython3",
   "version": "3.8.5"
  },
  "toc": {
   "base_numbering": 1,
   "nav_menu": {},
   "number_sections": true,
   "sideBar": true,
   "skip_h1_title": false,
   "title_cell": "Table of Contents",
   "title_sidebar": "Contents",
   "toc_cell": false,
   "toc_position": {
    "height": "calc(100% - 180px)",
    "left": "10px",
    "top": "150px",
    "width": "277.818px"
   },
   "toc_section_display": true,
   "toc_window_display": true
  }
 },
 "nbformat": 4,
 "nbformat_minor": 5
}
