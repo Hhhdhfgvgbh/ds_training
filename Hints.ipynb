{
 "cells": [
  {
   "cell_type": "markdown",
   "id": "cd2f4d3f",
   "metadata": {},
   "source": [
    "# Гит памятка"
   ]
  },
  {
   "cell_type": "code",
   "execution_count": null,
   "id": "29e13763",
   "metadata": {},
   "outputs": [],
   "source": []
  },
  {
   "cell_type": "code",
   "execution_count": null,
   "id": "82a417e0",
   "metadata": {},
   "outputs": [],
   "source": []
  },
  {
   "cell_type": "markdown",
   "id": "6d84898b",
   "metadata": {},
   "source": [
    "# Консоль"
   ]
  },
  {
   "cell_type": "markdown",
   "id": "f3392001",
   "metadata": {},
   "source": [
    "## **Навигация**  Основные команды\n",
    "\n",
    "*   `pwd` (от англ. print working directory, «показать рабочую папку») — покажи, в какой я папке;\n",
    "*   `ls` (от англ. list directory contents, «отобразить содержимое директории») — покажи файлы и папки в текущей папке;\n",
    "*   `ls -a` — покажи также скрытые файлы и папки, названия которых начинаются с символа .;\n",
    "*   `cd first-project` (от англ. change directory, «сменить директорию») — перейди в папку first-project;\n",
    "*   `cd first-project/html` — перейди в папку html, которая находится в папке first-project;\n",
    "*   `cd ..` — перейди на уровень выше, в родительскую папку;\n",
    "*   `cd ~` — перейди в домашнюю директорию (/Users/Username);\n",
    "*   `cd /` — перейди в корневую директорию.\n",
    "*  Для перехода на другой диск в командной строке Windows, **просто укажите имя диска без команды cd** (`D:`)\n",
    "\n",
    "## **Работа с файлами и папками**\n",
    "\n",
    "### Создание\n",
    "\n",
    "*   `touch index.html` (англ. touch, «коснуться») — создай файл index.html в текущей папке;\n",
    "*   `touch index.html style.css script.js` — если нужно создать сразу несколько файлов, можно напечатать их имена в одну строку через пробел;\n",
    "*   `mkdir second-project` (от англ. make directory, «создать директорию») — создай папку с именем second-project в текущей папке.\n",
    "\n",
    "### Копирование и перемещение\n",
    "\n",
    "*   `cp file.txt ~/my-dir` (от англ. copy, «копировать») — скопируй файл в другое место;\n",
    "*   `mv file.txt ~/my-dir` (от англ. move, «переместить») — перемести файл или папку в другое место.\n",
    "\n",
    "### Чтение\n",
    "\n",
    "*   `cat file.txt` (от англ. concatenate and print, «объединить и распечатать») — распечатай содержимое текстового файла file.txt.\n",
    "\n",
    "### Удаление\n",
    "\n",
    "*   `rm about.html` (от англ. remove, «удалить») — удали файл about.html;\n",
    "*   `rmdir images` (от англ. remove directory, «удалить директорию») — удали папку images;\n",
    "*   `rm -r second-project` (от англ. remove, «удалить» + recursive, «рекурсивный») — удали папку second-project и всё, что она содержит.\n",
    "\n",
    "### Полезные возможности\n",
    "==========================\n",
    "\n",
    "*   Команды необязательно печатать и выполнять по очереди. Можно указать их списком — разделить двумя амперсандами (&&).\n",
    "*   У консоли есть собственная память — буфер с несколькими последними командами. По ним можно перемещаться с помощью клавиш со стрелками вверх (↑) и вниз (↓).\n",
    "*   Чтобы не вводить название файла или папки полностью, можно набрать первые символы имени и дважды нажать Tab. Если файл или папка есть в текущей директории, командная строка допишет путь сама."
   ]
  },
  {
   "cell_type": "code",
   "execution_count": null,
   "id": "6a5b2d4c",
   "metadata": {},
   "outputs": [],
   "source": [
    "ssh-keygen -t rsa -b 4096 -C \"dimension888@yandex.ru\""
   ]
  },
  {
   "cell_type": "markdown",
   "id": "3c1de7f6",
   "metadata": {},
   "source": [
    "# Консоль"
   ]
  },
  {
   "cell_type": "markdown",
   "id": "a3dea92f",
   "metadata": {},
   "source": [
    "# Простая работа с данными"
   ]
  },
  {
   "cell_type": "code",
   "execution_count": null,
   "id": "d0da50e9",
   "metadata": {},
   "outputs": [],
   "source": []
  },
  {
   "cell_type": "code",
   "execution_count": null,
   "id": "9aef313b",
   "metadata": {},
   "outputs": [],
   "source": []
  },
  {
   "cell_type": "code",
   "execution_count": 3,
   "id": "d5b11070",
   "metadata": {},
   "outputs": [],
   "source": [
    "import pandas as pd\n",
    "import numpy as np\n",
    "\n",
    "# Сброс ограничений на количество выводимых рядов\n",
    "#pd.set_option('display.max_rows', None)\n",
    "\n",
    "# Сброс ограничений на число столбцов\n",
    "pd.set_option('display.max_columns', None)\n",
    "\n",
    "# Сброс ограничений на количество символов в записи\n",
    "#pd.set_option('display.max_colwidth', None)"
   ]
  },
  {
   "cell_type": "code",
   "execution_count": 4,
   "id": "cae70111",
   "metadata": {},
   "outputs": [
    {
     "data": {
      "text/html": [
       "\n",
       "                <script type=\"application/javascript\" id=\"jupyter_black\">\n",
       "                (function() {\n",
       "                    if (window.IPython === undefined) {\n",
       "                        return\n",
       "                    }\n",
       "                    var msg = \"WARNING: it looks like you might have loaded \" +\n",
       "                        \"jupyter_black in a non-lab notebook with \" +\n",
       "                        \"`is_lab=True`. Please double check, and if \" +\n",
       "                        \"loading with `%load_ext` please review the README!\"\n",
       "                    console.log(msg)\n",
       "                    alert(msg)\n",
       "                })()\n",
       "                </script>\n",
       "                "
      ],
      "text/plain": [
       "<IPython.core.display.HTML object>"
      ]
     },
     "metadata": {},
     "output_type": "display_data"
    }
   ],
   "source": [
    "import jupyter_black\n",
    "\n",
    "jupyter_black.load()\n",
    "# Форматер (красивости)"
   ]
  },
  {
   "cell_type": "code",
   "execution_count": 5,
   "id": "b0faa06f",
   "metadata": {},
   "outputs": [],
   "source": [
    "df = pd.DataFrame(\n",
    "    data={\n",
    "        \"date_per\": pd.date_range(start=\"2020-11-03\", end=\"2021-10-01\", periods=1200),\n",
    "        \"int_rnd\": np.random.randint(0, 1000, size=1200),\n",
    "        \"fl_rnd_ones\": np.random.random(1200),\n",
    "        \"fl_rnd_norm\": np.random.normal(10, 6, 1200),\n",
    "    },\n",
    "    index=range(100, 1300),\n",
    ")"
   ]
  },
  {
   "cell_type": "code",
   "execution_count": 6,
   "id": "a5571957",
   "metadata": {},
   "outputs": [
    {
     "name": "stdout",
     "output_type": "stream",
     "text": [
      "<class 'pandas.core.frame.DataFrame'>\n",
      "RangeIndex: 1200 entries, 100 to 1299\n",
      "Data columns (total 4 columns):\n",
      " #   Column       Non-Null Count  Dtype         \n",
      "---  ------       --------------  -----         \n",
      " 0   date_per     1200 non-null   datetime64[ns]\n",
      " 1   int_rnd      1200 non-null   int32         \n",
      " 2   fl_rnd_ones  1200 non-null   float64       \n",
      " 3   fl_rnd_norm  1200 non-null   float64       \n",
      "dtypes: datetime64[ns](1), float64(2), int32(1)\n",
      "memory usage: 32.9 KB\n"
     ]
    }
   ],
   "source": [
    "df.info()"
   ]
  },
  {
   "cell_type": "code",
   "execution_count": 7,
   "id": "8211ffaa",
   "metadata": {},
   "outputs": [
    {
     "data": {
      "text/html": [
       "<div>\n",
       "<style scoped>\n",
       "    .dataframe tbody tr th:only-of-type {\n",
       "        vertical-align: middle;\n",
       "    }\n",
       "\n",
       "    .dataframe tbody tr th {\n",
       "        vertical-align: top;\n",
       "    }\n",
       "\n",
       "    .dataframe thead th {\n",
       "        text-align: right;\n",
       "    }\n",
       "</style>\n",
       "<table border=\"1\" class=\"dataframe\">\n",
       "  <thead>\n",
       "    <tr style=\"text-align: right;\">\n",
       "      <th></th>\n",
       "      <th>date_per</th>\n",
       "      <th>int_rnd</th>\n",
       "      <th>fl_rnd_ones</th>\n",
       "      <th>fl_rnd_norm</th>\n",
       "    </tr>\n",
       "  </thead>\n",
       "  <tbody>\n",
       "    <tr>\n",
       "      <th>1247</th>\n",
       "      <td>2021-09-16 14:25:55.296080068</td>\n",
       "      <td>445</td>\n",
       "      <td>0.220024</td>\n",
       "      <td>12.770867</td>\n",
       "    </tr>\n",
       "    <tr>\n",
       "      <th>1089</th>\n",
       "      <td>2021-08-03 20:26:13.311092576</td>\n",
       "      <td>390</td>\n",
       "      <td>0.864630</td>\n",
       "      <td>19.717439</td>\n",
       "    </tr>\n",
       "    <tr>\n",
       "      <th>867</th>\n",
       "      <td>2021-06-03 09:07:39.382819016</td>\n",
       "      <td>708</td>\n",
       "      <td>0.479819</td>\n",
       "      <td>17.282369</td>\n",
       "    </tr>\n",
       "  </tbody>\n",
       "</table>\n",
       "</div>"
      ],
      "text/plain": [
       "                          date_per  int_rnd  fl_rnd_ones  fl_rnd_norm\n",
       "1247 2021-09-16 14:25:55.296080068      445     0.220024    12.770867\n",
       "1089 2021-08-03 20:26:13.311092576      390     0.864630    19.717439\n",
       "867  2021-06-03 09:07:39.382819016      708     0.479819    17.282369"
      ]
     },
     "execution_count": 7,
     "metadata": {},
     "output_type": "execute_result"
    }
   ],
   "source": [
    "df.sample(3)\n",
    "#df.sample(frac=1)   frac - какую долю от общего количества показать, если 1 то будет полный но перемешанный"
   ]
  },
  {
   "cell_type": "code",
   "execution_count": null,
   "id": "beb319b3",
   "metadata": {},
   "outputs": [],
   "source": [
    "df_all['num_m'] = df_all['d_dateinput'].dt.month \n",
    "df_all['num_w'] = df_all['d_dateinput'].dt.strftime('w%V')"
   ]
  },
  {
   "cell_type": "code",
   "execution_count": null,
   "id": "f7ef0721",
   "metadata": {},
   "outputs": [],
   "source": []
  },
  {
   "cell_type": "code",
   "execution_count": null,
   "id": "4819e303",
   "metadata": {},
   "outputs": [],
   "source": []
  },
  {
   "cell_type": "code",
   "execution_count": null,
   "id": "57705bf2",
   "metadata": {},
   "outputs": [],
   "source": []
  },
  {
   "cell_type": "code",
   "execution_count": null,
   "id": "3537a4b3",
   "metadata": {},
   "outputs": [],
   "source": [
    "# графики на временных рядах\n",
    "import matplotlib.pyplot as plt\n",
    "\n",
    "df_time = df.copy()\n",
    "df_time.index = df_time[\"date_per\"]\n",
    "df_time = df_time.sort_index()\n",
    "\n",
    "df_time[\"fl_rnd_ones\"].rolling(\"48H\").mean().plot(figsize=(16, 6), label=\"fl_rnd_ones\")\n",
    "plt.grid()\n",
    "plt.legend()\n",
    "plt.xlim([\"2021-03-30 02\", \"2021-05-30 15\"])\n",
    "plt.ylim([0.1, 0.99])\n",
    "plt.title(\"time_series\")\n",
    "plt.show()"
   ]
  },
  {
   "cell_type": "code",
   "execution_count": null,
   "id": "7cfdc5ed",
   "metadata": {},
   "outputs": [],
   "source": [
    "import matplotlib.pyplot as plt\n",
    "plt.figure(figsize=(12,12)) # размер\n",
    "df_time['fl_rnd_ones'].rolling('48H').mean().plot(figsize = (16,6), label = f'{i}')\n",
    "plt.axvline(x='2024-07-01', ymin=0.0, ymax=0.85, color='g', label = 'изменил скоринг') # вертикальная линия\n",
    "plt.grid()\n",
    "plt.legend()\n",
    "plt.xlim(['2023-02-10 02', '2023-12-30 15'])\n",
    "plt.title(f'{i}')\n",
    "plt.show()"
   ]
  },
  {
   "cell_type": "code",
   "execution_count": null,
   "id": "a15dbe93",
   "metadata": {},
   "outputs": [],
   "source": [
    "df_valid_c.groupby(\"num_group\", as_index=False).agg(count=(\"dog_limit\", \"count\"),\n",
    "                                                       mean_gog_lim=(\"dog_limit\", 'mean'),\n",
    "                                                       all_sum_dog_lim=(\"dog_limit\", \"sum\"),\n",
    "                                                       mean_npl_30_60=(\"npl_30_60\", 'mean'))"
   ]
  },
  {
   "cell_type": "code",
   "execution_count": null,
   "id": "91357332",
   "metadata": {},
   "outputs": [],
   "source": []
  },
  {
   "cell_type": "code",
   "execution_count": null,
   "id": "05bcea19",
   "metadata": {},
   "outputs": [],
   "source": [
    "len(list(range(100, 1300)))"
   ]
  },
  {
   "cell_type": "code",
   "execution_count": null,
   "id": "49591278",
   "metadata": {},
   "outputs": [],
   "source": [
    "pd.date_range(start=\"2020-11-03\", end=\"2021-10-01\", periods=1200)"
   ]
  },
  {
   "cell_type": "code",
   "execution_count": null,
   "id": "0f17ca73",
   "metadata": {},
   "outputs": [],
   "source": []
  }
 ],
 "metadata": {
  "kernelspec": {
   "display_name": "Python 3",
   "language": "python",
   "name": "python3"
  },
  "language_info": {
   "codemirror_mode": {
    "name": "ipython",
    "version": 3
   },
   "file_extension": ".py",
   "mimetype": "text/x-python",
   "name": "python",
   "nbconvert_exporter": "python",
   "pygments_lexer": "ipython3",
   "version": "3.8.5"
  },
  "toc": {
   "base_numbering": 1,
   "nav_menu": {},
   "number_sections": true,
   "sideBar": true,
   "skip_h1_title": false,
   "title_cell": "Table of Contents",
   "title_sidebar": "Contents",
   "toc_cell": false,
   "toc_position": {
    "height": "calc(100% - 180px)",
    "left": "10px",
    "top": "150px",
    "width": "277.818px"
   },
   "toc_section_display": true,
   "toc_window_display": true
  }
 },
 "nbformat": 4,
 "nbformat_minor": 5
}
